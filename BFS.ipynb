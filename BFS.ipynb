{
  "nbformat": 4,
  "nbformat_minor": 0,
  "metadata": {
    "colab": {
      "provenance": [],
      "authorship_tag": "ABX9TyMNAHZ6KH6+R6ew412Iv4Ai",
      "include_colab_link": true
    },
    "kernelspec": {
      "name": "python3",
      "display_name": "Python 3"
    },
    "language_info": {
      "name": "python"
    }
  },
  "cells": [
    {
      "cell_type": "markdown",
      "metadata": {
        "id": "view-in-github",
        "colab_type": "text"
      },
      "source": [
        "<a href=\"https://colab.research.google.com/github/newmantic/BFS/blob/main/BFS.ipynb\" target=\"_parent\"><img src=\"https://colab.research.google.com/assets/colab-badge.svg\" alt=\"Open In Colab\"/></a>"
      ]
    },
    {
      "cell_type": "code",
      "execution_count": 1,
      "metadata": {
        "colab": {
          "base_uri": "https://localhost:8080/"
        },
        "id": "Jp8rk1XgkD4M",
        "outputId": "f574d1fd-9f0a-4333-907d-79d27a12d9c0"
      },
      "outputs": [
        {
          "output_type": "stream",
          "name": "stdout",
          "text": [
            "BFS traversal order: ['A', 'B', 'C', 'D', 'E', 'F']\n"
          ]
        }
      ],
      "source": [
        "from collections import deque, defaultdict\n",
        "\n",
        "def bfs(graph, start_node):\n",
        "    \"\"\"\n",
        "    Perform Breadth-First Search (BFS) on a graph.\n",
        "\n",
        "    Parameters:\n",
        "    graph (dict): A dictionary representing the graph as an adjacency list.\n",
        "                  The keys are node labels, and the values are lists of neighboring nodes.\n",
        "    start_node: The node from which to start the BFS traversal.\n",
        "\n",
        "    Returns:\n",
        "    list: A list of nodes in the order they were visited.\n",
        "    \"\"\"\n",
        "    visited = set()  # Set to keep track of visited nodes\n",
        "    queue = deque([start_node])  # Queue to manage the BFS frontier\n",
        "    bfs_order = []  # List to store the order of visited nodes\n",
        "\n",
        "    while queue:\n",
        "        # Dequeue the next node\n",
        "        current_node = queue.popleft()\n",
        "\n",
        "        if current_node not in visited:\n",
        "            # Mark the current node as visited\n",
        "            visited.add(current_node)\n",
        "            bfs_order.append(current_node)\n",
        "\n",
        "            # Enqueue all unvisited neighbors\n",
        "            for neighbor in graph[current_node]:\n",
        "                if neighbor not in visited:\n",
        "                    queue.append(neighbor)\n",
        "\n",
        "    return bfs_order\n",
        "\n",
        "# Testable example:\n",
        "# Define a simple graph as an adjacency list\n",
        "graph = {\n",
        "    'A': ['B', 'C'],\n",
        "    'B': ['D', 'E'],\n",
        "    'C': ['F'],\n",
        "    'D': [],\n",
        "    'E': ['F'],\n",
        "    'F': []\n",
        "}\n",
        "\n",
        "# Perform BFS starting from node 'A'\n",
        "bfs_result = bfs(graph, 'A')\n",
        "print(f\"BFS traversal order: {bfs_result}\")"
      ]
    }
  ]
}